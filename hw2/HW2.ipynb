{
 "cells": [
  {
   "cell_type": "code",
   "execution_count": 1,
   "metadata": {},
   "outputs": [],
   "source": [
    "import math\n",
    "import numpy as np"
   ]
  },
  {
   "cell_type": "code",
   "execution_count": 2,
   "metadata": {},
   "outputs": [],
   "source": [
    "def readTxtFile(inputFile):\n",
    "    myFile = open(inputFile, \"r\")\n",
    "    lines = []\n",
    "    variables = dict()\n",
    "    for line in myFile:\n",
    "        line = line.strip()\n",
    "        temp = line.split(\" \")\n",
    "        lines.append(temp)\n",
    "\n",
    "    delx = float(lines[0][0])\n",
    "    dely = float(lines[0][1])\n",
    "    dx = float(lines[0][2])\n",
    "    dy = float(lines[0][3])\n",
    "    sigmaSquared = float(lines[0][4])\n",
    "    M = int(lines[1][0])\n",
    "    N = int(lines[1][1])\n",
    "    bigImage = []\n",
    "    for row in lines[2:12]:\n",
    "        bigImage.append([])\n",
    "        for pixel in row:\n",
    "            bigImage[-1].append(float(pixel))\n",
    "    m = int(lines[12][0])\n",
    "    n = int(lines[12][1])\n",
    "    smallImage = []\n",
    "    for row in lines[13:19]:\n",
    "        smallImage.append([])\n",
    "        for pixel in row:\n",
    "            smallImage[-1].append(float(pixel))\n",
    "    return(delx,dely,dx,dy,sigmaSquared,M,N,bigImage,m,n,smallImage)"
   ]
  },
  {
   "cell_type": "code",
   "execution_count": 3,
   "metadata": {},
   "outputs": [],
   "source": [
    "# Intensity of the image at a real-valued point (x', y') by the interpolation formula \n",
    "# I(A, x', y')\n",
    "def interpolationFormula(M, N, sigmaSquared, A, x, y):\n",
    "    numerator = 0\n",
    "    denominator =0 \n",
    "    for p in range(M):\n",
    "        for q in range(N):\n",
    "            difference = (x-p)**2 + (y-q)**2\n",
    "            numerator += A[p][q]*math.exp(-sigmaSquared*difference)\n",
    "            denominator += math.exp(-sigmaSquared*difference)\n",
    "    if denominator > 0:\n",
    "        intensity = numerator/denominator\n",
    "    else:\n",
    "        intensity = 0\n",
    "    \n",
    "    return intensity "
   ]
  },
  {
   "cell_type": "code",
   "execution_count": 4,
   "metadata": {},
   "outputs": [],
   "source": [
    "# f(A, T, x, y)\n",
    "def objectiveFunction(M, N, sigmaSquared, m, n, A, T, x, y):\n",
    "    optimizationSum = 0\n",
    "    for i in range(m):\n",
    "        for j in range(n):\n",
    "            interpolatedIntensity = interpolationFormula(M, N, sigmaSquared, A, i+x, j+y)\n",
    "            optimizationSum += (T[i][j] - interpolatedIntensity)**2\n",
    "    return optimizationSum\n"
   ]
  },
  {
   "cell_type": "code",
   "execution_count": 5,
   "metadata": {},
   "outputs": [],
   "source": [
    "# 4a\n",
    "def gradient(M, N, sigmaSquared, dx, dy, m, n, A, T, x, y):\n",
    "    secondOrderXSum = 0\n",
    "    secondOrderYSum = 0\n",
    "    for i in range(m):\n",
    "        for j in range(n):\n",
    "            firstTermX = (T[i][j]-interpolationFormula(M, N, sigmaSquared, A, i+x+dx, j+y))**2\n",
    "            secondTermX = (T[i][j]-interpolationFormula(M, N, sigmaSquared, A, i+x-dx, j+y))**2\n",
    "            secondOrderXSum += firstTermX-secondTermX\n",
    "            firstTermY = (T[i][j]-interpolationFormula(M, N, sigmaSquared, A, i+x, j+y+dy))**2\n",
    "            secondTermY = (T[i][j]-interpolationFormula(M, N, sigmaSquared, A, i+x, j+y-dy))**2\n",
    "            secondOrderYSum += firstTermY-secondTermY\n",
    "    secondOrderX = secondOrderXSum/(2*dx)\n",
    "    secondOrderY = secondOrderYSum/(2*dy)\n",
    "\n",
    "    return(secondOrderX, secondOrderY)"
   ]
  },
  {
   "cell_type": "code",
   "execution_count": 6,
   "metadata": {},
   "outputs": [],
   "source": [
    "# 4b\n",
    "def calculateHessian(M, N, sigmaSquared, dx, dy, m, n, A, T, x, y):\n",
    "    # doble derivative wrt x \n",
    "    num = (objectiveFunction(M, N, sigmaSquared, m, n, A, T, x+dx, y) + \n",
    "            objectiveFunction(M, N, sigmaSquared, m, n, A, T, x-dx, y) - \n",
    "            2*objectiveFunction(M, N, sigmaSquared, m, n, A, T, x, y)\n",
    "    )\n",
    "    den = dx**2\n",
    "    doubDerWRTx = num/den\n",
    "\n",
    "    # double derivative wrt y \n",
    "    num2 = (objectiveFunction(M, N, sigmaSquared, m, n, A, T, x, y+dy) + \n",
    "        objectiveFunction(M, N, sigmaSquared, m, n, A, T, x, y-dy) -\n",
    "        2*objectiveFunction(M, N, sigmaSquared, m, n, A, T, x, y)\n",
    "    )\n",
    "    den2 = dy**2 \n",
    "    doubDerWRTy = num2/den2\n",
    "\n",
    "    # double derivative wrt to both x and y \n",
    "    numerator = (objectiveFunction(M, N, sigmaSquared, m, n, A, T, x+dx, y+dy) - \n",
    "                objectiveFunction(M, N, sigmaSquared, m, n, A, T, x+dx, y-dy) -\n",
    "                objectiveFunction(M, N, sigmaSquared, m, n, A, T, x-dx, y+dy) + \n",
    "                objectiveFunction(M, N, sigmaSquared, m, n, A, T, x-dx, y-dy)\n",
    "    )\n",
    "    denominator = 4*dy*dx\n",
    "    doubleDerWRTxy = numerator/denominator \n",
    "    hessian = [[doubDerWRTx, doubleDerWRTxy], [doubleDerWRTxy,doubDerWRTy]]\n",
    "    return hessian\n"
   ]
  },
  {
   "cell_type": "code",
   "execution_count": 7,
   "metadata": {},
   "outputs": [],
   "source": [
    "def runNewtonRaphson(M, N, sigmaSquared, m, n, A, T, dx, dy, delx, dely):\n",
    "    min = float('inf')\n",
    "    xRange = np.arange(0, M-m+1, delx)\n",
    "    yRange = np.arange(0, N-n+1, dely)\n",
    "    for i in xRange:\n",
    "        for j in yRange:\n",
    "            x_0 = i\n",
    "            y_0 = j\n",
    "            for z in range(10):\n",
    "                hessianMatrix = calculateHessian(M, N, sigmaSquared, dx, dy, m, n, A, T, x_0, y_0)\n",
    "                Gx, Gy = gradient(M, N, sigmaSquared, dx, dy, m, n, A, T, x_0, y_0)\n",
    "                #G = np.array([Gx, Gy])\n",
    "                denominator = hessianMatrix[0][0]*hessianMatrix[1][1]-(hessianMatrix[0][1]**2)\n",
    "    \n",
    "                if (denominator == 0):\n",
    "                    x_0 = -1\n",
    "                    y_0 = -1\n",
    "                    break\n",
    "                else:\n",
    "                    u1 = (hessianMatrix[1][1]*Gx-hessianMatrix[1][0]*Gy)/denominator\n",
    "                    u2 = (hessianMatrix[0][0]*Gy-hessianMatrix[1][0]*Gx)/denominator\n",
    "                    x_0 = x_0 - u1\n",
    "                    y_0 = y_0 - u2\n",
    "            newObjective = objectiveFunction(M, N, sigmaSquared, m, n, A, T, x_0, y_0)\n",
    "            if newObjective < min:\n",
    "                point = (x_0, y_0)\n",
    "                min = newObjective\n",
    "    if (M < point[0]) or (0 > point[0]) or (N < point[1]) or (0 > point[1]):\n",
    "        return(-1,-1)\n",
    "    else:\n",
    "        return point           "
   ]
  },
  {
   "cell_type": "code",
   "execution_count": 9,
   "metadata": {},
   "outputs": [
    {
     "name": "stdout",
     "output_type": "stream",
     "text": [
      "The output for txt1 is  (4.50000611546777, 3.5000000000000133)\n",
      "The output for txt2 is  (5.386138514914719, 0.18760102600531411)\n"
     ]
    }
   ],
   "source": [
    "# using grid spacing of 0.2 \n",
    "def main():\n",
    "    delx, dely, dx, dy, sigmaSquared, M, N, bigImage, m, n, smallImage = readTxtFile(\"PS2_test_1.txt\")\n",
    "    NR = runNewtonRaphson(M, N, sigmaSquared, m, n, bigImage, smallImage, dx, dy, delx=0.2, dely=0.2)\n",
    "    print(\"The output for txt1 is \", NR)\n",
    "    delx, dely, dx, dy, sigmaSquared, M, N, bigImage, m, n, smallImage = readTxtFile(\"PS2_test_2.txt\")\n",
    "    NR = runNewtonRaphson(M, N, sigmaSquared, m, n, bigImage, smallImage, dx, dy, delx=0.2, dely=0.2)\n",
    "    print(\"The output for txt2 is \", NR)\n",
    "\n",
    "if __name__ == \"__main__\":\n",
    "    main()"
   ]
  }
 ],
 "metadata": {
  "kernelspec": {
   "display_name": "Python 3.9.13 ('base')",
   "language": "python",
   "name": "python3"
  },
  "language_info": {
   "codemirror_mode": {
    "name": "ipython",
    "version": 3
   },
   "file_extension": ".py",
   "mimetype": "text/x-python",
   "name": "python",
   "nbconvert_exporter": "python",
   "pygments_lexer": "ipython3",
   "version": "3.9.13"
  },
  "orig_nbformat": 4,
  "vscode": {
   "interpreter": {
    "hash": "70d57c135da11913b2ad31fa6150ab201732e694e7c1a956b2909783da6a3273"
   }
  }
 },
 "nbformat": 4,
 "nbformat_minor": 2
}
